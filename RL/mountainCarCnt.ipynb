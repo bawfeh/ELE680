{
 "cells": [
  {
   "cell_type": "markdown",
   "metadata": {},
   "source": [
    "\n",
    "#### ELE680 - Deep Neural Networks | Project Group 7\n",
    "---\n",
    "## Training RL Agents in Interactive Continuous Control Environments\n",
    "#### Participants:\n",
    "\n",
    "| Name | Student Nr |\n",
    "| --- | --- |\n",
    "| Katerina Kolarikova | |\n",
    "| Maroof Mushtaq | |\n",
    "| Bawfeh Kingsley Kometa | 271961 |\n",
    "\n",
    "---"
   ]
  },
  {
   "cell_type": "markdown",
   "metadata": {},
   "source": [
    "\n",
    "### Tasks: Mountain Car Continuous\n",
    "In this exercise, we shall solve the **[OpenAI Gym - Mountain Car Continuous](https://gymnasium.farama.org/environments/classic_control/mountain_car_continuous/)** problem using **Q Learning with Experience Replay**. \n",
    "\n",
    "![title](https://gymnasium.farama.org/_images/mountain_car_continuous.gif)\n",
    "\n",
    "The `Mountain Car` is a control environment defined in the OpenAI's Gym framework, initially defined by [Andrew Moore](https://www.cl.cam.ac.uk/techreports/UCAM-CL-TR-209.pdf) in his PhD work. It describes a deterministic MDP whereby a car is stochastically placed at the bottom of a sinusoidal valley. Actions are applied in one of two directions to enable the car get to a target point at the top of the valley.  The environment definition comes in two versions: one with discrete actions and the other with continuous actions. In this work, we shall only consider the continuous version (`MountainCarContinuous-v0`). \n",
    "\n",
    "The state (observation) space is represented by a 2D array comprised of two attributes--the _position_ and _velocity_ respectively. Actions are represented by scalars selected from the interval $[-1,1]$ and multiplied by a power of $0.0015$. For a given action, transition from current state to next is given by the following mathematical formulas:\n",
    "\\begin{align}\n",
    "\\text{velocity}_{t+1} &\\coloneqq \\text{velocity}_{t} + 0.0015 * \\text{action} - 0.0025 * \\cos(3 * \\text{position}_{t}) \\\\\n",
    "\\text{position}_{t+1} &\\coloneqq \\text{position}_{t} + \\text{velocity}_{t+1}\n",
    "\\end{align}\n",
    "where HP represents the car's engine horsepower.\n",
    "\n",
    "The complete details regarding the environment, state space, action space, state transition and reward mechanisms, termination conditions and other parameters are in the openAI Gym [documention](https://gymnasium.farama.org/environments/classic_control/mountain_car_continuous/). The game is **considered solved when the target is hit**.\n",
    "\n",
    "In this exercise we shall: \n",
    "- Implement an deep neural network (agent) that optimizes the Q-values required to maximize total discounted average rewards in the long term.\n",
    "- Design training loop to learn from the environment using Q-learning techniques with experience replay\n",
    "- Report on the training loss and cumulative total reward received over time\n"
   ]
  },
  {
   "cell_type": "code",
   "execution_count": 96,
   "metadata": {},
   "outputs": [],
   "source": [
    "for name in dir():\n",
    "    if not (name.startswith('_') or name.endswith('_')):\n",
    "        del globals()[name]"
   ]
  },
  {
   "cell_type": "code",
   "execution_count": 97,
   "metadata": {},
   "outputs": [
    {
     "name": "stdout",
     "output_type": "stream",
     "text": [
      "The autoreload extension is already loaded. To reload it, use:\n",
      "  %reload_ext autoreload\n"
     ]
    }
   ],
   "source": [
    "%load_ext autoreload\n",
    "%autoreload 2"
   ]
  },
  {
   "cell_type": "code",
   "execution_count": 98,
   "metadata": {},
   "outputs": [],
   "source": [
    "from IPython.core.interactiveshell import InteractiveShell\n",
    "InteractiveShell.ast_node_interactivity = \"last\" # all | last | last_expr | none "
   ]
  },
  {
   "cell_type": "markdown",
   "metadata": {},
   "source": [
    "## 1. Environment Setup\n",
    "---"
   ]
  },
  {
   "cell_type": "code",
   "execution_count": 99,
   "metadata": {},
   "outputs": [],
   "source": [
    "import os\n",
    "import numpy as np\n",
    "from matplotlib import pyplot as plt\n",
    "import random\n",
    "# import pygame\n",
    "# import cv2\n",
    "import gymnasium as gym\n",
    "\n",
    "RANDOM_STATE = 1234\n",
    "ENV_NAME = 'MountainCarContinuous-v0'\n",
    "np.random.seed(RANDOM_STATE)\n",
    "random.seed(RANDOM_STATE)\n",
    "# EPOCHS  = 100 # works for experience replay no target net\n",
    "EPOCHS  = 400\n"
   ]
  },
  {
   "cell_type": "code",
   "execution_count": 100,
   "metadata": {},
   "outputs": [
    {
     "name": "stdout",
     "output_type": "stream",
     "text": [
      "Initial state: [position: -0.59, velocity: 0.00]\n",
      "Observation space: Box([-1.2  -0.07], [0.6  0.07], (2,), float32)\n",
      "Action space: Box(-1.0, 1.0, (1,), float32)\n",
      "\n",
      "Output from applying action [-0.07819345] on environment:\n",
      "(state:\t[-5.8621323e-01  3.5215588e-04]\n",
      "reward: -0.0006114215385811195\n",
      "terminated: False\n",
      "truncated: False\n",
      "info: {})\n"
     ]
    }
   ],
   "source": [
    "# Ensure that environment exists\n",
    "assert ENV_NAME in gym.envs.registry.keys()\n",
    "\n",
    "# Create an instance of enviroment\n",
    "env = gym.make(ENV_NAME)\n",
    "\n",
    "# Verify essential properties of the environment\n",
    "state = env.reset()[0]\n",
    "print(\"Initial state: [position: {:.2f}, velocity: {:.2f}]\".format(*state))\n",
    "print(\"Observation space: {}\".format(env.observation_space))\n",
    "print(f\"Action space: {env.action_space}\")\n",
    "a = env.action_space.sample()\n",
    "print(\"\\nOutput from applying action {} on environment:\\n(state:\".format(a) \\\n",
    "      + \"\\t{}\\nreward: {}\\nterminated: {}\\ntruncated: {}\\ninfo: {})\".format(*env.step(a)))\n"
   ]
  },
  {
   "cell_type": "code",
   "execution_count": 101,
   "metadata": {},
   "outputs": [],
   "source": [
    "env = gym.wrappers.RecordVideo(\n",
    "    env=gym.make(ENV_NAME, render_mode=\"rgb_array\"), \n",
    "    video_folder=\"./MC_Continuous/\", \n",
    "    name_prefix=\"mc_episodes\", \n",
    "    episode_trigger=lambda x: x % 10 == 0,\n",
    "    # episode_trigger=lambda x: False,\n",
    "    # video_length=200,\n",
    "    # disable_logger=True\n",
    ")\n",
    "\n",
    "# Set non-positional agent class args\n",
    "parameters = dict(\n",
    "    epsilon=0.01, \n",
    "    max_epsilon=1,\n",
    "    gamma=0.99, \n",
    "    num_actions=10,\n",
    "    # path='./MC_Continuous/',\n",
    "    # recording_range=range(EPOCHS-100, EPOCHS), \n",
    "    seed=RANDOM_STATE,\n",
    ")\n",
    "# Set training parameters\n",
    "train_parameters = dict(\n",
    "    epochs=EPOCHS, \n",
    "    learningRate=0.001, \n",
    "    maxMoves=100, \n",
    "    memorySize=10000, \n",
    "    batchSize=128, \n",
    "    render=True,\n",
    ")\n",
    "# Set plotting parameters\n",
    "plot_parameters = dict(\n",
    "    grid_on=True, \n",
    "    m_averages=EPOCHS // 10, \n",
    "    # metric=None\n",
    ")"
   ]
  },
  {
   "cell_type": "markdown",
   "metadata": {},
   "source": [
    "## 2. Experience Replay\n",
    "---"
   ]
  },
  {
   "cell_type": "code",
   "execution_count": 102,
   "metadata": {},
   "outputs": [],
   "source": [
    "# # import torch\n",
    "# from MC_Continuous.DQL_experience import *\n",
    "# torch.seed = RANDOM_STATE\n",
    "# torch.manual_seed(RANDOM_STATE)"
   ]
  },
  {
   "cell_type": "markdown",
   "metadata": {},
   "source": [
    "### 2.1 Creating the agent instance"
   ]
  },
  {
   "cell_type": "code",
   "execution_count": 103,
   "metadata": {},
   "outputs": [],
   "source": [
    "# agent = experience_Agent(env, **parameters)\n",
    "# agent.model"
   ]
  },
  {
   "cell_type": "markdown",
   "metadata": {},
   "source": [
    "### 2.2 Train the agent"
   ]
  },
  {
   "cell_type": "code",
   "execution_count": 104,
   "metadata": {},
   "outputs": [],
   "source": [
    "# history = agent.train(**train_parameters)"
   ]
  },
  {
   "cell_type": "markdown",
   "metadata": {},
   "source": [
    "### 2.3 Plot the training losses and rewards"
   ]
  },
  {
   "cell_type": "code",
   "execution_count": 105,
   "metadata": {},
   "outputs": [],
   "source": [
    "# info = agent.plot_history(history, **plot_parameters)"
   ]
  },
  {
   "cell_type": "markdown",
   "metadata": {},
   "source": [
    "### 2.4 Test the agent using the trained model\n"
   ]
  },
  {
   "cell_type": "code",
   "execution_count": 106,
   "metadata": {},
   "outputs": [],
   "source": [
    "# info = agent.test(numTest=10, render=True, maxMoves=100,\n",
    "#                 #   saved_model_path='./MC_Continuous/saved_model.pt'\n",
    "#                   ) "
   ]
  },
  {
   "cell_type": "code",
   "execution_count": 107,
   "metadata": {},
   "outputs": [],
   "source": [
    "# for d in info:\n",
    "#     plt.plot(info[d]['actions'])\n",
    "# plt.show()"
   ]
  },
  {
   "cell_type": "markdown",
   "metadata": {},
   "source": [
    "## 3. Experience Replay with secondary Target Network\n",
    "---"
   ]
  },
  {
   "cell_type": "code",
   "execution_count": 108,
   "metadata": {},
   "outputs": [],
   "source": [
    "# import torch\n",
    "from MC_Continuous.DQL_target import *\n",
    "torch.seed = RANDOM_STATE\n",
    "_ = torch.manual_seed(RANDOM_STATE)"
   ]
  },
  {
   "cell_type": "markdown",
   "metadata": {},
   "source": [
    "\n",
    "### 3.1 Create neural Agent"
   ]
  },
  {
   "cell_type": "code",
   "execution_count": 109,
   "metadata": {},
   "outputs": [],
   "source": [
    "agent2 = target_Agent(env, **parameters)"
   ]
  },
  {
   "cell_type": "markdown",
   "metadata": {},
   "source": [
    "### 3.2 Train the agent"
   ]
  },
  {
   "cell_type": "code",
   "execution_count": 110,
   "metadata": {},
   "outputs": [
    {
     "name": "stdout",
     "output_type": "stream",
     "text": [
      "epoch 0: \terror = nan, cumulative reward = -2.72 (in 100 moves)\n",
      "Moviepy - Building video /Users/bawfeh78/Downloads/ELE680/ELE680/RL/MC_Continuous/mc_episodes-episode-0.mp4.\n",
      "Moviepy - Writing video /Users/bawfeh78/Downloads/ELE680/ELE680/RL/MC_Continuous/mc_episodes-episode-0.mp4\n",
      "\n"
     ]
    },
    {
     "name": "stderr",
     "output_type": "stream",
     "text": [
      "                                                                 \r"
     ]
    },
    {
     "name": "stdout",
     "output_type": "stream",
     "text": [
      "Moviepy - Done !\n",
      "Moviepy - video ready /Users/bawfeh78/Downloads/ELE680/ELE680/RL/MC_Continuous/mc_episodes-episode-0.mp4\n",
      "epoch 40: \terror = 7.25e-02, cumulative reward = -2.44 (in 100 moves)\n",
      "epoch 80: \terror = 1.57e-01, cumulative reward = -1.49 (in 100 moves)\n",
      "epoch 120: \terror = 2.14e+00, cumulative reward = 99.97 (in 1 moves)\n",
      "epoch 160: \terror = 3.53e+01, cumulative reward = 99.97 (in 1 moves)\n",
      "epoch 200: \terror = 3.25e+01, cumulative reward = 99.97 (in 1 moves)\n",
      "epoch 240: \terror = 5.23e+01, cumulative reward = 99.97 (in 1 moves)\n",
      "epoch 280: \terror = 4.35e+01, cumulative reward = 99.95 (in 1 moves)\n",
      "epoch 320: \terror = 3.98e+01, cumulative reward = 99.95 (in 1 moves)\n",
      "epoch 360: \terror = 2.73e+01, cumulative reward = 99.95 (in 1 moves)\n",
      "Wins 290 out of 400 plays!\n",
      "Saved episode 0!\n"
     ]
    }
   ],
   "source": [
    "history2 = agent2.train(**train_parameters, syncFreq=int(EPOCHS/100))\n"
   ]
  },
  {
   "cell_type": "markdown",
   "metadata": {},
   "source": [
    "### 3.3 Plot the training losses and rewards"
   ]
  },
  {
   "cell_type": "code",
   "execution_count": 111,
   "metadata": {},
   "outputs": [
    {
     "data": {
      "image/png": "[encoded data removed]",
      "text/plain": [
       "<Figure size 1400x600 with 2 Axes>"
      ]
     },
     "metadata": {},
     "output_type": "display_data"
    }
   ],
   "source": [
    "agent2.plot_history(history2, **plot_parameters)"
   ]
  },
  {
   "cell_type": "markdown",
   "metadata": {},
   "source": [
    "### 3.4 Test the agent using the trained model\n"
   ]
  },
  {
   "cell_type": "code",
   "execution_count": 112,
   "metadata": {},
   "outputs": [
    {
     "name": "stdout",
     "output_type": "stream",
     "text": [
      "Test episode 0: total rewards = 99.99 (in 1/100 moves)\n",
      "Test episode 1: total rewards = 99.99 (in 1/100 moves)\n",
      "Test episode 2: total rewards = 99.99 (in 1/100 moves)\n",
      "Test episode 3: total rewards = 99.99 (in 1/100 moves)\n",
      "Test episode 4: total rewards = 99.99 (in 1/100 moves)\n",
      "Test episode 5: total rewards = 99.99 (in 1/100 moves)\n",
      "Test episode 6: total rewards = 99.99 (in 1/100 moves)\n",
      "Test episode 7: total rewards = 99.99 (in 1/100 moves)\n",
      "Test episode 8: total rewards = 99.99 (in 1/100 moves)\n",
      "Test episode 9: total rewards = 99.99 (in 1/100 moves)\n",
      "===============\n",
      "  Summary\n",
      "---------------\n",
      "plays: 10 \n",
      "wins: 10\n",
      "mean (rewards): 99.991 \n",
      "std (rewards): 0.0\n"
     ]
    }
   ],
   "source": [
    "info2 = agent2.test(numTest=10, render=True, maxMoves=100, \n",
    "                #   saved_model_path='./MC_Continuous/saved_model_target.pt'\n",
    "                  ) "
   ]
  },
  {
   "cell_type": "code",
   "execution_count": 113,
   "metadata": {},
   "outputs": [
    {
     "data": {
      "image/png": "[encoded data removed]",
      "text/plain": [
       "<Figure size 640x480 with 1 Axes>"
      ]
     },
     "metadata": {},
     "output_type": "display_data"
    }
   ],
   "source": [
    "for d in info2:\n",
    "    plt.plot(info2[d]['actions'])\n",
    "plt.show()"
   ]
  }
 ],
 "metadata": {
  "interpreter": {
   "hash": "25a22a22ae3721dc277425b9221481ff56af47d502af71cd4744bf87f0122518"
  },
  "kernelspec": {
   "display_name": "Python 3.10.4 64-bit (windows store)",
   "language": "python",
   "name": "python3"
  },
  "language_info": {
   "codemirror_mode": {
    "name": "ipython",
    "version": 3
   },
   "file_extension": ".py",
   "mimetype": "text/x-python",
   "name": "python",
   "nbconvert_exporter": "python",
   "pygments_lexer": "ipython3",
   "version": "3.10.14"
  },
  "orig_nbformat": 4
 },
 "nbformat": 4,
 "nbformat_minor": 2
}
